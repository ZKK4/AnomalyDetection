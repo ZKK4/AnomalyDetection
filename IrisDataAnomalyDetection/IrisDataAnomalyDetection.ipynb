{
 "cells": [
  {
   "cell_type": "code",
   "execution_count": 28,
   "metadata": {},
   "outputs": [],
   "source": [
    "#导库\n",
    "from pyod.models.knn import KNN\n",
    "from sklearn.datasets import load_iris\n",
    "from sklearn.model_selection import train_test_split"
   ]
  },
  {
   "cell_type": "code",
   "execution_count": 29,
   "metadata": {},
   "outputs": [],
   "source": [
    "#准备数据\n",
    "X,y=load_iris(return_X_y=True)\n",
    "X_train,X_test, y_train, y_test = train_test_split(X, y, test_size=0.2)"
   ]
  },
  {
   "cell_type": "code",
   "execution_count": 32,
   "metadata": {},
   "outputs": [],
   "source": [
    "#KNN检测器\n",
    "clf_name='KNN'\n",
    "clf=KNN()#初始化检测器\n",
    "clf.fit(X_train)#训练检测器模型\n",
    "y_train_pred=clf.labels_#返回训练数据上的异常的分类标签（0为正常值，1为异常值）\n",
    "y_train_scores=clf.decision_scores_#返回训练数据上的异常值(值越大越异常)\n",
    "y_test_pred = clf.predict(X_test) #返回未知数据上的分类标签 \n",
    "y_test_scores = clf.decision_function(X_test)#异常值(值越大越异常)"
   ]
  },
  {
   "cell_type": "code",
   "execution_count": 33,
   "metadata": {},
   "outputs": [
    {
     "name": "stdout",
     "output_type": "stream",
     "text": [
      "\n",
      "On Test Data:\n",
      "KNN [1 2 2 0 2 0 1 2 1 1 1 1 2 1 0 0 1 0 0 0 1 2 2 1 2 1 2 2 0 0] [0.33166248 0.60827625 0.47958315 0.36055513 0.50990195 0.24494897\n",
      " 0.45825757 0.41231056 0.43588989 0.38729833 0.38729833 0.54772256\n",
      " 0.53851648 0.41231056 0.33166248 0.3        0.34641016 0.56568542\n",
      " 0.36055513 0.33166248 0.50990195 0.45825757 0.50990195 0.36055513\n",
      " 0.42426407 0.52915026 0.6244998  0.37416574 0.41231056 0.45825757]\n"
     ]
    }
   ],
   "source": [
    "#评估预测结果\n",
    "print(\"\\nOn Test Data:\")\n",
    "print(clf_name, y_test, y_test_scores)"
   ]
  },
  {
   "cell_type": "code",
   "execution_count": null,
   "metadata": {},
   "outputs": [],
   "source": []
  }
 ],
 "metadata": {
  "kernelspec": {
   "display_name": "Python 3",
   "language": "python",
   "name": "python3"
  },
  "language_info": {
   "codemirror_mode": {
    "name": "ipython",
    "version": 3
   },
   "file_extension": ".py",
   "mimetype": "text/x-python",
   "name": "python",
   "nbconvert_exporter": "python",
   "pygments_lexer": "ipython3",
   "version": "3.7.6"
  }
 },
 "nbformat": 4,
 "nbformat_minor": 4
}
